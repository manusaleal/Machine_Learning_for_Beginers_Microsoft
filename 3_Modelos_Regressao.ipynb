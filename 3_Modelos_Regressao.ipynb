{
 "cells": [
  {
   "attachments": {},
   "cell_type": "markdown",
   "metadata": {},
   "source": [
    "## Correlação e Modelos de Regressão\n",
    "\n",
    "Este capítulo irá abordar o conceito de correlação das variáveis e a Regressão Linear e Polinomial. \n",
    "\n",
    "Realizando uma breve introdução de correlação, ela mostra o nível de relação entre as variáveis. Através do coeficiente de correlação (r) podemos identificar se a correlação é fraca, nula ou forte:\n",
    "\n",
    "Correlação Positiva:\n",
    ". 0<r<1: Correlação Fraca (gráfico ascendente com alguns pontos dispersos)\n",
    ". r=0: Correlação Nula/Inexistente (gráfico com vários pontos dispersos)\n",
    ". r=1: Correlação Perfeita (gráfico ascendente)\n",
    "\n",
    "Correlação Negativa:\n",
    ". -1<r<0: Correlação Fraca (gráfico descendente com alguns pontos dispersos)\n",
    ". r=0 Correlação Nula/Inexistente (gráfico descendente com vários pontos dispersos)\n",
    ". r=-1 Correlação Perfeita (gráfico descendente)\n",
    "\n",
    "Vamos utilizar o mesmo dataset de abóboras do capítulo anterior. Para isto, iremos carregar as variáveis utilizadas anteriormente:"
   ]
  },
  {
   "cell_type": "code",
   "execution_count": 1,
   "metadata": {},
   "outputs": [
    {
     "data": {
      "text/html": [
       "<div>\n",
       "<style scoped>\n",
       "    .dataframe tbody tr th:only-of-type {\n",
       "        vertical-align: middle;\n",
       "    }\n",
       "\n",
       "    .dataframe tbody tr th {\n",
       "        vertical-align: top;\n",
       "    }\n",
       "\n",
       "    .dataframe thead th {\n",
       "        text-align: right;\n",
       "    }\n",
       "</style>\n",
       "<table border=\"1\" class=\"dataframe\">\n",
       "  <thead>\n",
       "    <tr style=\"text-align: right;\">\n",
       "      <th></th>\n",
       "      <th>City Name</th>\n",
       "      <th>Type</th>\n",
       "      <th>Package</th>\n",
       "      <th>Variety</th>\n",
       "      <th>Sub Variety</th>\n",
       "      <th>Grade</th>\n",
       "      <th>Date</th>\n",
       "      <th>Low Price</th>\n",
       "      <th>High Price</th>\n",
       "      <th>Mostly Low</th>\n",
       "      <th>...</th>\n",
       "      <th>Unit of Sale</th>\n",
       "      <th>Quality</th>\n",
       "      <th>Condition</th>\n",
       "      <th>Appearance</th>\n",
       "      <th>Storage</th>\n",
       "      <th>Crop</th>\n",
       "      <th>Repack</th>\n",
       "      <th>Trans Mode</th>\n",
       "      <th>Unnamed: 24</th>\n",
       "      <th>Unnamed: 25</th>\n",
       "    </tr>\n",
       "  </thead>\n",
       "  <tbody>\n",
       "    <tr>\n",
       "      <th>0</th>\n",
       "      <td>BALTIMORE</td>\n",
       "      <td>NaN</td>\n",
       "      <td>24 inch bins</td>\n",
       "      <td>NaN</td>\n",
       "      <td>NaN</td>\n",
       "      <td>NaN</td>\n",
       "      <td>4/29/17</td>\n",
       "      <td>270.0</td>\n",
       "      <td>280.0</td>\n",
       "      <td>270.0</td>\n",
       "      <td>...</td>\n",
       "      <td>NaN</td>\n",
       "      <td>NaN</td>\n",
       "      <td>NaN</td>\n",
       "      <td>NaN</td>\n",
       "      <td>NaN</td>\n",
       "      <td>NaN</td>\n",
       "      <td>E</td>\n",
       "      <td>NaN</td>\n",
       "      <td>NaN</td>\n",
       "      <td>NaN</td>\n",
       "    </tr>\n",
       "    <tr>\n",
       "      <th>1</th>\n",
       "      <td>BALTIMORE</td>\n",
       "      <td>NaN</td>\n",
       "      <td>24 inch bins</td>\n",
       "      <td>NaN</td>\n",
       "      <td>NaN</td>\n",
       "      <td>NaN</td>\n",
       "      <td>5/6/17</td>\n",
       "      <td>270.0</td>\n",
       "      <td>280.0</td>\n",
       "      <td>270.0</td>\n",
       "      <td>...</td>\n",
       "      <td>NaN</td>\n",
       "      <td>NaN</td>\n",
       "      <td>NaN</td>\n",
       "      <td>NaN</td>\n",
       "      <td>NaN</td>\n",
       "      <td>NaN</td>\n",
       "      <td>E</td>\n",
       "      <td>NaN</td>\n",
       "      <td>NaN</td>\n",
       "      <td>NaN</td>\n",
       "    </tr>\n",
       "    <tr>\n",
       "      <th>2</th>\n",
       "      <td>BALTIMORE</td>\n",
       "      <td>NaN</td>\n",
       "      <td>24 inch bins</td>\n",
       "      <td>HOWDEN TYPE</td>\n",
       "      <td>NaN</td>\n",
       "      <td>NaN</td>\n",
       "      <td>9/24/16</td>\n",
       "      <td>160.0</td>\n",
       "      <td>160.0</td>\n",
       "      <td>160.0</td>\n",
       "      <td>...</td>\n",
       "      <td>NaN</td>\n",
       "      <td>NaN</td>\n",
       "      <td>NaN</td>\n",
       "      <td>NaN</td>\n",
       "      <td>NaN</td>\n",
       "      <td>NaN</td>\n",
       "      <td>N</td>\n",
       "      <td>NaN</td>\n",
       "      <td>NaN</td>\n",
       "      <td>NaN</td>\n",
       "    </tr>\n",
       "    <tr>\n",
       "      <th>3</th>\n",
       "      <td>BALTIMORE</td>\n",
       "      <td>NaN</td>\n",
       "      <td>24 inch bins</td>\n",
       "      <td>HOWDEN TYPE</td>\n",
       "      <td>NaN</td>\n",
       "      <td>NaN</td>\n",
       "      <td>9/24/16</td>\n",
       "      <td>160.0</td>\n",
       "      <td>160.0</td>\n",
       "      <td>160.0</td>\n",
       "      <td>...</td>\n",
       "      <td>NaN</td>\n",
       "      <td>NaN</td>\n",
       "      <td>NaN</td>\n",
       "      <td>NaN</td>\n",
       "      <td>NaN</td>\n",
       "      <td>NaN</td>\n",
       "      <td>N</td>\n",
       "      <td>NaN</td>\n",
       "      <td>NaN</td>\n",
       "      <td>NaN</td>\n",
       "    </tr>\n",
       "    <tr>\n",
       "      <th>4</th>\n",
       "      <td>BALTIMORE</td>\n",
       "      <td>NaN</td>\n",
       "      <td>24 inch bins</td>\n",
       "      <td>HOWDEN TYPE</td>\n",
       "      <td>NaN</td>\n",
       "      <td>NaN</td>\n",
       "      <td>11/5/16</td>\n",
       "      <td>90.0</td>\n",
       "      <td>100.0</td>\n",
       "      <td>90.0</td>\n",
       "      <td>...</td>\n",
       "      <td>NaN</td>\n",
       "      <td>NaN</td>\n",
       "      <td>NaN</td>\n",
       "      <td>NaN</td>\n",
       "      <td>NaN</td>\n",
       "      <td>NaN</td>\n",
       "      <td>N</td>\n",
       "      <td>NaN</td>\n",
       "      <td>NaN</td>\n",
       "      <td>NaN</td>\n",
       "    </tr>\n",
       "  </tbody>\n",
       "</table>\n",
       "<p>5 rows × 26 columns</p>\n",
       "</div>"
      ],
      "text/plain": [
       "   City Name Type       Package      Variety Sub Variety  Grade     Date  \\\n",
       "0  BALTIMORE  NaN  24 inch bins          NaN         NaN    NaN  4/29/17   \n",
       "1  BALTIMORE  NaN  24 inch bins          NaN         NaN    NaN   5/6/17   \n",
       "2  BALTIMORE  NaN  24 inch bins  HOWDEN TYPE         NaN    NaN  9/24/16   \n",
       "3  BALTIMORE  NaN  24 inch bins  HOWDEN TYPE         NaN    NaN  9/24/16   \n",
       "4  BALTIMORE  NaN  24 inch bins  HOWDEN TYPE         NaN    NaN  11/5/16   \n",
       "\n",
       "   Low Price  High Price  Mostly Low  ...  Unit of Sale Quality Condition  \\\n",
       "0      270.0       280.0       270.0  ...           NaN     NaN       NaN   \n",
       "1      270.0       280.0       270.0  ...           NaN     NaN       NaN   \n",
       "2      160.0       160.0       160.0  ...           NaN     NaN       NaN   \n",
       "3      160.0       160.0       160.0  ...           NaN     NaN       NaN   \n",
       "4       90.0       100.0        90.0  ...           NaN     NaN       NaN   \n",
       "\n",
       "  Appearance Storage  Crop Repack  Trans Mode  Unnamed: 24  Unnamed: 25  \n",
       "0        NaN     NaN   NaN      E         NaN          NaN          NaN  \n",
       "1        NaN     NaN   NaN      E         NaN          NaN          NaN  \n",
       "2        NaN     NaN   NaN      N         NaN          NaN          NaN  \n",
       "3        NaN     NaN   NaN      N         NaN          NaN          NaN  \n",
       "4        NaN     NaN   NaN      N         NaN          NaN          NaN  \n",
       "\n",
       "[5 rows x 26 columns]"
      ]
     },
     "execution_count": 1,
     "metadata": {},
     "output_type": "execute_result"
    }
   ],
   "source": [
    "import pandas as pd\n",
    "import matplotlib.pyplot as plt\n",
    "import numpy as np\n",
    "from datetime import datetime\n",
    "\n",
    "#Lendo o arquivo csv\n",
    "aboboras= pd.read_csv(r\"C:\\Users\\manus\\OneDrive\\Documentos\\ML-For-Beginners\\2-Regression\\data\\US-pumpkins.csv\")\n",
    "\n",
    "#Verificando o dataset\n",
    "aboboras.head()\n"
   ]
  },
  {
   "cell_type": "code",
   "execution_count": 2,
   "metadata": {},
   "outputs": [
    {
     "data": {
      "text/plain": [
       "City Name            0\n",
       "Type               406\n",
       "Package              0\n",
       "Variety              0\n",
       "Sub Variety        167\n",
       "Grade              415\n",
       "Date                 0\n",
       "Low Price            0\n",
       "High Price           0\n",
       "Mostly Low          24\n",
       "Mostly High         24\n",
       "Origin               0\n",
       "Origin District    396\n",
       "Item Size          114\n",
       "Color              145\n",
       "Environment        415\n",
       "Unit of Sale       404\n",
       "Quality            415\n",
       "Condition          415\n",
       "Appearance         415\n",
       "Storage            415\n",
       "Crop               415\n",
       "Repack               0\n",
       "Trans Mode         415\n",
       "Unnamed: 24        415\n",
       "Unnamed: 25        391\n",
       "dtype: int64"
      ]
     },
     "execution_count": 2,
     "metadata": {},
     "output_type": "execute_result"
    }
   ],
   "source": [
    "#Filtrando somente 'bushel' da coluna 'Package'\n",
    "aboboras=aboboras[aboboras['Package'].str.contains('bushel',case=True, regex=True)]\n",
    "\n",
    "#Quantidade de células vazias por coluna\n",
    "aboboras.isnull().sum()"
   ]
  },
  {
   "cell_type": "code",
   "execution_count": 3,
   "metadata": {},
   "outputs": [
    {
     "name": "stderr",
     "output_type": "stream",
     "text": [
      "C:\\Users\\manus\\AppData\\Local\\Temp\\ipykernel_9848\\3074588900.py:12: UserWarning: Could not infer format, so each element will be parsed individually, falling back to `dateutil`. To ensure parsing is consistent and as-expected, please specify a format.\n",
      "  dia_do_ano=pd.to_datetime(aboboras_filtrada['Date']).apply(lambda dt: (dt-datetime(dt.year,1,1)).days)\n",
      "C:\\Users\\manus\\AppData\\Local\\Temp\\ipykernel_9848\\3074588900.py:15: SettingWithCopyWarning: \n",
      "A value is trying to be set on a copy of a slice from a DataFrame.\n",
      "Try using .loc[row_indexer,col_indexer] = value instead\n",
      "\n",
      "See the caveats in the documentation: https://pandas.pydata.org/pandas-docs/stable/user_guide/indexing.html#returning-a-view-versus-a-copy\n",
      "  aboboras_filtrada.loc[aboboras_filtrada['Package'].str.contains('1 1/9'), 'Preco']=preco/(1+(1/9))\n"
     ]
    },
    {
     "data": {
      "text/html": [
       "<div>\n",
       "<style scoped>\n",
       "    .dataframe tbody tr th:only-of-type {\n",
       "        vertical-align: middle;\n",
       "    }\n",
       "\n",
       "    .dataframe tbody tr th {\n",
       "        vertical-align: top;\n",
       "    }\n",
       "\n",
       "    .dataframe thead th {\n",
       "        text-align: right;\n",
       "    }\n",
       "</style>\n",
       "<table border=\"1\" class=\"dataframe\">\n",
       "  <thead>\n",
       "    <tr style=\"text-align: right;\">\n",
       "      <th></th>\n",
       "      <th>Mes</th>\n",
       "      <th>DiadoAno</th>\n",
       "      <th>Variedade</th>\n",
       "      <th>Cidade</th>\n",
       "      <th>Pacote</th>\n",
       "      <th>MenorPreco</th>\n",
       "      <th>MaiorPreco</th>\n",
       "      <th>Preco</th>\n",
       "    </tr>\n",
       "  </thead>\n",
       "  <tbody>\n",
       "    <tr>\n",
       "      <th>70</th>\n",
       "      <td>9</td>\n",
       "      <td>267</td>\n",
       "      <td>PIE TYPE</td>\n",
       "      <td>BALTIMORE</td>\n",
       "      <td>1 1/9 bushel cartons</td>\n",
       "      <td>15.0</td>\n",
       "      <td>15.0</td>\n",
       "      <td>15.0</td>\n",
       "    </tr>\n",
       "    <tr>\n",
       "      <th>71</th>\n",
       "      <td>9</td>\n",
       "      <td>267</td>\n",
       "      <td>PIE TYPE</td>\n",
       "      <td>BALTIMORE</td>\n",
       "      <td>1 1/9 bushel cartons</td>\n",
       "      <td>18.0</td>\n",
       "      <td>18.0</td>\n",
       "      <td>18.0</td>\n",
       "    </tr>\n",
       "    <tr>\n",
       "      <th>72</th>\n",
       "      <td>10</td>\n",
       "      <td>274</td>\n",
       "      <td>PIE TYPE</td>\n",
       "      <td>BALTIMORE</td>\n",
       "      <td>1 1/9 bushel cartons</td>\n",
       "      <td>18.0</td>\n",
       "      <td>18.0</td>\n",
       "      <td>18.0</td>\n",
       "    </tr>\n",
       "    <tr>\n",
       "      <th>73</th>\n",
       "      <td>10</td>\n",
       "      <td>274</td>\n",
       "      <td>PIE TYPE</td>\n",
       "      <td>BALTIMORE</td>\n",
       "      <td>1 1/9 bushel cartons</td>\n",
       "      <td>17.0</td>\n",
       "      <td>17.0</td>\n",
       "      <td>17.0</td>\n",
       "    </tr>\n",
       "    <tr>\n",
       "      <th>74</th>\n",
       "      <td>10</td>\n",
       "      <td>281</td>\n",
       "      <td>PIE TYPE</td>\n",
       "      <td>BALTIMORE</td>\n",
       "      <td>1 1/9 bushel cartons</td>\n",
       "      <td>15.0</td>\n",
       "      <td>15.0</td>\n",
       "      <td>15.0</td>\n",
       "    </tr>\n",
       "  </tbody>\n",
       "</table>\n",
       "</div>"
      ],
      "text/plain": [
       "    Mes  DiadoAno Variedade     Cidade                Pacote  MenorPreco  \\\n",
       "70    9       267  PIE TYPE  BALTIMORE  1 1/9 bushel cartons        15.0   \n",
       "71    9       267  PIE TYPE  BALTIMORE  1 1/9 bushel cartons        18.0   \n",
       "72   10       274  PIE TYPE  BALTIMORE  1 1/9 bushel cartons        18.0   \n",
       "73   10       274  PIE TYPE  BALTIMORE  1 1/9 bushel cartons        17.0   \n",
       "74   10       281  PIE TYPE  BALTIMORE  1 1/9 bushel cartons        15.0   \n",
       "\n",
       "    MaiorPreco  Preco  \n",
       "70        15.0   15.0  \n",
       "71        18.0   18.0  \n",
       "72        18.0   18.0  \n",
       "73        17.0   17.0  \n",
       "74        15.0   15.0  "
      ]
     },
     "execution_count": 3,
     "metadata": {},
     "output_type": "execute_result"
    }
   ],
   "source": [
    "#Filtrando as colunas que utilizaremos para análise\n",
    "aboboras_filtrada=aboboras[['Package', 'Variety', 'City Name', 'Low Price', 'High Price', 'Date']]\n",
    "\n",
    "#Nova coluna com o mês baseada na coluna \"Date\"\n",
    "mes=pd.DatetimeIndex(aboboras_filtrada['Date']).month\n",
    "\n",
    "#Preço médio\n",
    "import numpy as np\n",
    "preco=(aboboras_filtrada['High Price']+aboboras_filtrada['Low Price'])/2\n",
    "\n",
    "#Dia do ano\n",
    "dia_do_ano=pd.to_datetime(aboboras_filtrada['Date']).apply(lambda dt: (dt-datetime(dt.year,1,1)).days)\n",
    "\n",
    "#Normalizando o preço (preço por saca)\n",
    "aboboras_filtrada.loc[aboboras_filtrada['Package'].str.contains('1 1/9'), 'Preco']=preco/(1+(1/9))\n",
    "\n",
    "aboboras_filtrada.loc[aboboras_filtrada['Package'].str.contains('1/2'), 'Preco']=preco/(1/2)\n",
    "\n",
    "#Adicionando as colunas no DataFrame:\n",
    "aboboras_novo=pd.DataFrame(\n",
    "    {'Mes': mes,\n",
    "     'DiadoAno': dia_do_ano,\n",
    "     'Variedade': aboboras_filtrada['Variety'],\n",
    "     'Cidade': aboboras_filtrada['City Name'],\n",
    "     'Pacote': aboboras_filtrada['Package'],\n",
    "     'MenorPreco': aboboras_filtrada['Low Price'],\n",
    "     'MaiorPreco': aboboras_filtrada['High Price'],\n",
    "     'Preco': preco})\n",
    "\n",
    "aboboras_novo.head()"
   ]
  },
  {
   "attachments": {},
   "cell_type": "markdown",
   "metadata": {},
   "source": [
    "## Correlação\n",
    "Vamos plotar o mesmo gráfico do capítulo anterior e verificar a correlação:"
   ]
  },
  {
   "cell_type": "code",
   "execution_count": 4,
   "metadata": {},
   "outputs": [
    {
     "data": {
      "text/plain": [
       "Text(0.5, 1.0, 'Investigação de Correlação')"
      ]
     },
     "execution_count": 4,
     "metadata": {},
     "output_type": "execute_result"
    },
    {
     "data": {
      "image/png": "[encoded data removed]",
      "text/plain": [
       "<Figure size 640x480 with 1 Axes>"
      ]
     },
     "metadata": {},
     "output_type": "display_data"
    }
   ],
   "source": [
    "import matplotlib.pyplot as plt\n",
    "plt.scatter('Mes','Preco',data=aboboras_novo)\n",
    "plt.xlabel('Mês')\n",
    "plt.ylabel('Preço')\n",
    "plt.title('Investigação de Correlação')"
   ]
  },
  {
   "attachments": {},
   "cell_type": "markdown",
   "metadata": {},
   "source": [
    "Observando apenas o gráfico, vemos que não há uma correlação visível. Agora vamos observar o coeficiente de correlação:"
   ]
  },
  {
   "cell_type": "code",
   "execution_count": 5,
   "metadata": {},
   "outputs": [
    {
     "name": "stdout",
     "output_type": "stream",
     "text": [
      "-0.03498145913471124\n"
     ]
    }
   ],
   "source": [
    "#Correlação entre Mês e Preço\n",
    "print(aboboras_novo['Mes'].corr(aboboras_novo['Preco']))"
   ]
  },
  {
   "attachments": {},
   "cell_type": "markdown",
   "metadata": {},
   "source": [
    "Vemos que a correlação é fraca, bem próximo ao nulo. Então praticamente não há correlação.\n",
    "Agora vamos observar a correlação entre dia do ano e preço:"
   ]
  },
  {
   "cell_type": "code",
   "execution_count": 6,
   "metadata": {},
   "outputs": [
    {
     "data": {
      "text/plain": [
       "Text(0.5, 1.0, 'Investigação de Correlação')"
      ]
     },
     "execution_count": 6,
     "metadata": {},
     "output_type": "execute_result"
    },
    {
     "data": {
      "image/png": "[encoded data removed]",
      "text/plain": [
       "<Figure size 640x480 with 1 Axes>"
      ]
     },
     "metadata": {},
     "output_type": "display_data"
    }
   ],
   "source": [
    "\n",
    "plt.scatter('DiadoAno','Preco',data=aboboras_novo)\n",
    "plt.xlabel('Dia do Ano')\n",
    "plt.ylabel('Preço')\n",
    "plt.title('Investigação de Correlação')"
   ]
  },
  {
   "cell_type": "code",
   "execution_count": 7,
   "metadata": {},
   "outputs": [
    {
     "name": "stdout",
     "output_type": "stream",
     "text": [
      "-0.046669788989113885\n"
     ]
    }
   ],
   "source": [
    "#Correlação entre Dia do Ano e Preço\n",
    "print(aboboras_novo['DiadoAno'].corr(aboboras_novo['Preco']))"
   ]
  },
  {
   "attachments": {},
   "cell_type": "markdown",
   "metadata": {},
   "source": [
    "A correlação é muito baixa, similar ao das variáveis mês e preço. Se observarmos bem, vemos que as variáveis Dia do Ano e Preço estão agrupadas. Mas e se separarmos elas por Variedades x Preço?"
   ]
  },
  {
   "cell_type": "code",
   "execution_count": 8,
   "metadata": {},
   "outputs": [
    {
     "data": {
      "image/png": "[encoded data removed]",
      "text/plain": [
       "<Figure size 640x480 with 1 Axes>"
      ]
     },
     "metadata": {},
     "output_type": "display_data"
    }
   ],
   "source": [
    "colors = ['red','blue','green','yellow']\n",
    "ax=None\n",
    "for i,var in enumerate(aboboras_novo['Variedade'].unique()): #pegou o índice (i) e o tipo (var) de abobora\n",
    "    ax = aboboras_novo[aboboras_novo['Variedade']==var].plot.scatter('DiadoAno','Preco',ax=ax,c=colors[i],label=var)\n"
   ]
  },
  {
   "attachments": {},
   "cell_type": "markdown",
   "metadata": {},
   "source": [
    "Vemos que há um agrupamento por variedade. Então vamos ver o preço em relação ao dia do ano x preço, mas levando em consideração a variedade:"
   ]
  },
  {
   "cell_type": "code",
   "execution_count": 9,
   "metadata": {},
   "outputs": [
    {
     "name": "stdout",
     "output_type": "stream",
     "text": [
      "PIE TYPE:  -0.2593572010296743\n",
      "MINIATURE:  0.050757870043505744\n",
      "FAIRYTALE:  nan\n",
      "MIXED HEIRLOOM VARIETIES:  nan\n"
     ]
    }
   ],
   "source": [
    "pie_type=aboboras_novo[aboboras_novo['Variedade']=='PIE TYPE']\n",
    "miniature=aboboras_novo[aboboras_novo['Variedade']=='MINIATURE']\n",
    "fairytale=aboboras_novo[aboboras_novo['Variedade']=='FAIRYTALE']\n",
    "mixed=aboboras_novo[aboboras_novo['Variedade']=='MIXED HEIRLOOM VARIETIES']\n",
    "\n",
    "#Correlação entre Variedade e Preço\n",
    "print('PIE TYPE: ', pie_type['DiadoAno'].corr(pie_type['Preco']))\n",
    "print('MINIATURE: ', miniature['DiadoAno'].corr(miniature['Preco']))\n",
    "print('FAIRYTALE: ',fairytale['DiadoAno'].corr(fairytale['Preco']))\n",
    "print('MIXED HEIRLOOM VARIETIES: ', mixed['DiadoAno'].corr(mixed['Preco']))"
   ]
  },
  {
   "attachments": {},
   "cell_type": "markdown",
   "metadata": {},
   "source": [
    "Logo, a melhor correlação que temos é a da torta de abóbora. Ela não é perfeita, mas é a melhor entre os 4 tipos de variedades e corresponde a uma correlação negativa e fraca.  Os tipos Fairtale e Mixed Heirloom Varieties possuem poucos dados para ser calculado a correlação.\n",
    "\n",
    "E se utilizarmos as variáveis Dia do Ano x Preço para realizar predições a partir de um modelo de regressão? \n",
    "Vamos abordá-los utilizando somente o tipo PIE TYPE, pois ele possui melhor correlação."
   ]
  },
  {
   "attachments": {},
   "cell_type": "markdown",
   "metadata": {},
   "source": [
    "# Regressão Linear\n",
    "\n",
    "O modelo de regressão linear é expresso pela a equação de reta que estima a saída Y de acordo com a variável de entrada X.\n",
    "\n",
    "Vamos relembrar os passos aprendidos no curso do Kaggle para construir e utilizar um modelo:\n",
    "\n",
    "1. **Definir:**  Qual tipo de modelo iremos utilizar? *Linear e Polinomial*\n",
    "2. **Ajustar (Fit):** Capturar padrões dos dados fornecidos\n",
    "3. **Predizer (Predict):** Devemos predizer/prever.\n",
    "4. **Validar (Evaluate):** Determinar a acurácia do modelo de predição"
   ]
  },
  {
   "cell_type": "code",
   "execution_count": 11,
   "metadata": {},
   "outputs": [
    {
     "data": {
      "text/plain": [
       "(144,)"
      ]
     },
     "execution_count": 11,
     "metadata": {},
     "output_type": "execute_result"
    }
   ],
   "source": [
    "from sklearn.linear_model import LinearRegression\n",
    "from sklearn.metrics import mean_squared_error\n",
    "from sklearn.model_selection import train_test_split\n",
    "\n",
    "#Obtendo o X (Característica) e y (alvo de predição) para o modelo\n",
    "X=pie_type['DiadoAno']\n",
    "y=pie_type['Preco']\n",
    "\n",
    "#Imprimindo o formato da variável\n",
    "X.shape"
   ]
  },
  {
   "attachments": {},
   "cell_type": "markdown",
   "metadata": {},
   "source": [
    "A variável X está com 2 dimensões (144,). Para transformá-la para 1 dimensão precisamos utilizar o reshape:"
   ]
  },
  {
   "cell_type": "code",
   "execution_count": 12,
   "metadata": {},
   "outputs": [
    {
     "data": {
      "text/plain": [
       "(144, 1)"
      ]
     },
     "execution_count": 12,
     "metadata": {},
     "output_type": "execute_result"
    }
   ],
   "source": [
    "#Transformando de 2D -> 1D\n",
    "X=X.to_numpy().reshape(-1,1)\n",
    "\n",
    "#Imprimindo o formato da variável\n",
    "X.shape"
   ]
  },
  {
   "attachments": {},
   "cell_type": "markdown",
   "metadata": {},
   "source": [
    "Agora vamos seguir o passo a passo mencionado acima (Lembrando de separar os dados de treino e de teste):"
   ]
  },
  {
   "cell_type": "code",
   "execution_count": 13,
   "metadata": {},
   "outputs": [
    {
     "data": {
      "text/html": [
       "<style>#sk-container-id-1 {color: black;background-color: white;}#sk-container-id-1 pre{padding: 0;}#sk-container-id-1 div.sk-toggleable {background-color: white;}#sk-container-id-1 label.sk-toggleable__label {cursor: pointer;display: block;width: 100%;margin-bottom: 0;padding: 0.3em;box-sizing: border-box;text-align: center;}#sk-container-id-1 label.sk-toggleable__label-arrow:before {content: \"▸\";float: left;margin-right: 0.25em;color: #696969;}#sk-container-id-1 label.sk-toggleable__label-arrow:hover:before {color: black;}#sk-container-id-1 div.sk-estimator:hover label.sk-toggleable__label-arrow:before {color: black;}#sk-container-id-1 div.sk-toggleable__content {max-height: 0;max-width: 0;overflow: hidden;text-align: left;background-color: #f0f8ff;}#sk-container-id-1 div.sk-toggleable__content pre {margin: 0.2em;color: black;border-radius: 0.25em;background-color: #f0f8ff;}#sk-container-id-1 input.sk-toggleable__control:checked~div.sk-toggleable__content {max-height: 200px;max-width: 100%;overflow: auto;}#sk-container-id-1 input.sk-toggleable__control:checked~label.sk-toggleable__label-arrow:before {content: \"▾\";}#sk-container-id-1 div.sk-estimator input.sk-toggleable__control:checked~label.sk-toggleable__label {background-color: #d4ebff;}#sk-container-id-1 div.sk-label input.sk-toggleable__control:checked~label.sk-toggleable__label {background-color: #d4ebff;}#sk-container-id-1 input.sk-hidden--visually {border: 0;clip: rect(1px 1px 1px 1px);clip: rect(1px, 1px, 1px, 1px);height: 1px;margin: -1px;overflow: hidden;padding: 0;position: absolute;width: 1px;}#sk-container-id-1 div.sk-estimator {font-family: monospace;background-color: #f0f8ff;border: 1px dotted black;border-radius: 0.25em;box-sizing: border-box;margin-bottom: 0.5em;}#sk-container-id-1 div.sk-estimator:hover {background-color: #d4ebff;}#sk-container-id-1 div.sk-parallel-item::after {content: \"\";width: 100%;border-bottom: 1px solid gray;flex-grow: 1;}#sk-container-id-1 div.sk-label:hover label.sk-toggleable__label {background-color: #d4ebff;}#sk-container-id-1 div.sk-serial::before {content: \"\";position: absolute;border-left: 1px solid gray;box-sizing: border-box;top: 0;bottom: 0;left: 50%;z-index: 0;}#sk-container-id-1 div.sk-serial {display: flex;flex-direction: column;align-items: center;background-color: white;padding-right: 0.2em;padding-left: 0.2em;position: relative;}#sk-container-id-1 div.sk-item {position: relative;z-index: 1;}#sk-container-id-1 div.sk-parallel {display: flex;align-items: stretch;justify-content: center;background-color: white;position: relative;}#sk-container-id-1 div.sk-item::before, #sk-container-id-1 div.sk-parallel-item::before {content: \"\";position: absolute;border-left: 1px solid gray;box-sizing: border-box;top: 0;bottom: 0;left: 50%;z-index: -1;}#sk-container-id-1 div.sk-parallel-item {display: flex;flex-direction: column;z-index: 1;position: relative;background-color: white;}#sk-container-id-1 div.sk-parallel-item:first-child::after {align-self: flex-end;width: 50%;}#sk-container-id-1 div.sk-parallel-item:last-child::after {align-self: flex-start;width: 50%;}#sk-container-id-1 div.sk-parallel-item:only-child::after {width: 0;}#sk-container-id-1 div.sk-dashed-wrapped {border: 1px dashed gray;margin: 0 0.4em 0.5em 0.4em;box-sizing: border-box;padding-bottom: 0.4em;background-color: white;}#sk-container-id-1 div.sk-label label {font-family: monospace;font-weight: bold;display: inline-block;line-height: 1.2em;}#sk-container-id-1 div.sk-label-container {text-align: center;}#sk-container-id-1 div.sk-container {/* jupyter's `normalize.less` sets `[hidden] { display: none; }` but bootstrap.min.css set `[hidden] { display: none !important; }` so we also need the `!important` here to be able to override the default hidden behavior on the sphinx rendered scikit-learn.org. See: https://github.com/scikit-learn/scikit-learn/issues/21755 */display: inline-block !important;position: relative;}#sk-container-id-1 div.sk-text-repr-fallback {display: none;}</style><div id=\"sk-container-id-1\" class=\"sk-top-container\"><div class=\"sk-text-repr-fallback\"><pre>LinearRegression()</pre><b>In a Jupyter environment, please rerun this cell to show the HTML representation or trust the notebook. <br />On GitHub, the HTML representation is unable to render, please try loading this page with nbviewer.org.</b></div><div class=\"sk-container\" hidden><div class=\"sk-item\"><div class=\"sk-estimator sk-toggleable\"><input class=\"sk-toggleable__control sk-hidden--visually\" id=\"sk-estimator-id-1\" type=\"checkbox\" checked><label for=\"sk-estimator-id-1\" class=\"sk-toggleable__label sk-toggleable__label-arrow\">LinearRegression</label><div class=\"sk-toggleable__content\"><pre>LinearRegression()</pre></div></div></div></div></div>"
      ],
      "text/plain": [
       "LinearRegression()"
      ]
     },
     "execution_count": 13,
     "metadata": {},
     "output_type": "execute_result"
    }
   ],
   "source": [
    "#Separação em dados de treino e de validação/teste\n",
    "treino_X, teste_X, treino_y, teste_y= train_test_split(X,y, test_size=0.2, random_state=0) \n",
    "\n",
    "#Definição do modelo\n",
    "regressao_linear= LinearRegression()\n",
    "\n",
    "#Ajuste do Modelo\n",
    "regressao_linear.fit(treino_X, treino_y)"
   ]
  },
  {
   "cell_type": "code",
   "execution_count": 14,
   "metadata": {},
   "outputs": [
    {
     "data": {
      "text/plain": [
       "array([17.51947201, 17.98330917, 17.41124334, 16.76187131, 17.30301467,\n",
       "       17.98330917, 17.51947201, 17.65862316, 17.8750805 , 17.194786  ,\n",
       "       17.194786  , 17.08655733, 17.51947201, 16.97832865, 17.73592935,\n",
       "       17.08655733, 16.97832865, 17.41124334, 17.08655733, 17.65862316,\n",
       "       18.09153784, 17.51947201, 16.65364264, 17.51947201, 17.194786  ,\n",
       "       17.73592935, 17.41124334, 17.194786  , 16.97832865])"
      ]
     },
     "execution_count": 14,
     "metadata": {},
     "output_type": "execute_result"
    }
   ],
   "source": [
    "#Predição dos preços \n",
    "pred_regressao_linear=regressao_linear.predict(teste_X)\n",
    "\n",
    "pred_regressao_linear"
   ]
  },
  {
   "cell_type": "code",
   "execution_count": 15,
   "metadata": {},
   "outputs": [
    {
     "name": "stdout",
     "output_type": "stream",
     "text": [
      "Erro Médio Quadrático: 2.87 (16.50 %)\n",
      "R^2: 0.04\n"
     ]
    }
   ],
   "source": [
    "#Validação do Modelo de Regressão Linear - Erro Médio Quadrático e Coeficiente de Determinação\n",
    "\n",
    "#Erro Médio Quadrático\n",
    "mse=np.sqrt(mean_squared_error(teste_y,pred_regressao_linear))\n",
    "\n",
    "print(f'Erro Médio Quadrático: {mse:.2f} ({(mse/np.mean(pred_regressao_linear)*100):.2f} %)')\n",
    "\n",
    "#Coeficiente de Determinação (Conhecido também como R²)\n",
    "score= regressao_linear.score(treino_X, treino_y)\n",
    "print(f'R^2: {score:.2f}')"
   ]
  },
  {
   "attachments": {},
   "cell_type": "markdown",
   "metadata": {},
   "source": [
    "Em relação ao Erro Médio Quadrático, quanto maior o erro, mais distante o nosso modelo está de prever o valor da torta de abóbora a cada dia do ano. Neste caso o MSE está alto. \n",
    "\n",
    "Já para para o R², quanto mais próximo de 1, melhor ajustado está nosso modelo dentro da regressão linear. Ele varia de 0 a 1, o que significa que nosso modelo não está nenhum pouco ajustado. Vamos plotar para visualizar:"
   ]
  },
  {
   "cell_type": "code",
   "execution_count": 16,
   "metadata": {},
   "outputs": [
    {
     "data": {
      "text/plain": [
       "Text(0.5, 1.0, 'Modelo de Regressão Linear')"
      ]
     },
     "execution_count": 16,
     "metadata": {},
     "output_type": "execute_result"
    },
    {
     "data": {
      "image/png": "[encoded data removed]",
      "text/plain": [
       "<Figure size 640x480 with 1 Axes>"
      ]
     },
     "metadata": {},
     "output_type": "display_data"
    }
   ],
   "source": [
    "plt.scatter(teste_X, teste_y)\n",
    "plt.plot(teste_X,pred_regressao_linear,color='red')\n",
    "plt.xlabel('Dados de Teste - Dias do Ano')\n",
    "plt.ylabel('Dados de Teste - Preço das Tortas de Abóbora')\n",
    "plt.title('Modelo de Regressão Linear')"
   ]
  },
  {
   "attachments": {},
   "cell_type": "markdown",
   "metadata": {},
   "source": [
    "Agora vamos obter a equação da reta: "
   ]
  },
  {
   "cell_type": "code",
   "execution_count": 17,
   "metadata": {},
   "outputs": [
    {
     "name": "stdout",
     "output_type": "stream",
     "text": [
      "y= -0.015461238747656512x + 21.86408009855789\n"
     ]
    }
   ],
   "source": [
    "#Equação da reta y = ax + b\n",
    "print(f'y= {regressao_linear.coef_[0]}x + {regressao_linear.intercept_}')"
   ]
  },
  {
   "attachments": {},
   "cell_type": "markdown",
   "metadata": {},
   "source": [
    "Por fim, vamos prever o valor da torta de abóbora para o dia 256 do ano, mas tendo em mente que o modelo não possui boa acurácia:"
   ]
  },
  {
   "cell_type": "code",
   "execution_count": 18,
   "metadata": {},
   "outputs": [
    {
     "data": {
      "text/plain": [
       "array([17.90600298])"
      ]
     },
     "execution_count": 18,
     "metadata": {},
     "output_type": "execute_result"
    }
   ],
   "source": [
    "regressao_linear.predict([[256]])"
   ]
  },
  {
   "attachments": {},
   "cell_type": "markdown",
   "metadata": {},
   "source": [
    "Ao invés de utilizar um modelo linear, podemos verificar se o modelo polinomial se encaixa melhor na previsão do preço de abóboras para cada dia do ano."
   ]
  },
  {
   "attachments": {},
   "cell_type": "markdown",
   "metadata": {},
   "source": [
    "# Modelo de Regressão Polinomial\n",
    "\n",
    "O modelo de regressão polinomial se diferencia do modelo linear através de seus coeficientes. Enquanto a equação linear é de grau 1, na polinomial podemos ter desde 1 a até N coeficientes/graus. \n",
    "\n",
    "E no que isto implica? Ao aplicar um modelo polinomial, podemos ter uma curva que se encaixe melhor na nossa predição."
   ]
  },
  {
   "attachments": {},
   "cell_type": "markdown",
   "metadata": {},
   "source": [
    "Para este modelo, utilizaremos o pipeline para criá-lo. O pipeline é uma sequência linear de módulos, onde a saída do primeiro é a entrada do próximo. Assim, ao utilizá-lo, minimizamos erros humanos e otimizamos o processo.\n",
    "\n",
    "Na construção do nosso pipeline utilizando o sklearn, precisaremos dos parâmetros estimador, que irá estimar/transformar os dados. No nosso caso será o PolynomialFeatures, que geram características/features polinomiais. O segundo parâmetro é o que irá treinar o nosso modelo de regressão."
   ]
  },
  {
   "attachments": {},
   "cell_type": "markdown",
   "metadata": {},
   "source": [
    "Vamos criar uma curva para ver se o modelo de regressão polinomial prediz melhor que o linear. Para isso, iremos utilizar Dias do Ano², pois assim teremos uma parábola devido a função de segundo grau. "
   ]
  },
  {
   "cell_type": "code",
   "execution_count": 19,
   "metadata": {},
   "outputs": [
    {
     "data": {
      "text/html": [
       "<style>#sk-container-id-2 {color: black;background-color: white;}#sk-container-id-2 pre{padding: 0;}#sk-container-id-2 div.sk-toggleable {background-color: white;}#sk-container-id-2 label.sk-toggleable__label {cursor: pointer;display: block;width: 100%;margin-bottom: 0;padding: 0.3em;box-sizing: border-box;text-align: center;}#sk-container-id-2 label.sk-toggleable__label-arrow:before {content: \"▸\";float: left;margin-right: 0.25em;color: #696969;}#sk-container-id-2 label.sk-toggleable__label-arrow:hover:before {color: black;}#sk-container-id-2 div.sk-estimator:hover label.sk-toggleable__label-arrow:before {color: black;}#sk-container-id-2 div.sk-toggleable__content {max-height: 0;max-width: 0;overflow: hidden;text-align: left;background-color: #f0f8ff;}#sk-container-id-2 div.sk-toggleable__content pre {margin: 0.2em;color: black;border-radius: 0.25em;background-color: #f0f8ff;}#sk-container-id-2 input.sk-toggleable__control:checked~div.sk-toggleable__content {max-height: 200px;max-width: 100%;overflow: auto;}#sk-container-id-2 input.sk-toggleable__control:checked~label.sk-toggleable__label-arrow:before {content: \"▾\";}#sk-container-id-2 div.sk-estimator input.sk-toggleable__control:checked~label.sk-toggleable__label {background-color: #d4ebff;}#sk-container-id-2 div.sk-label input.sk-toggleable__control:checked~label.sk-toggleable__label {background-color: #d4ebff;}#sk-container-id-2 input.sk-hidden--visually {border: 0;clip: rect(1px 1px 1px 1px);clip: rect(1px, 1px, 1px, 1px);height: 1px;margin: -1px;overflow: hidden;padding: 0;position: absolute;width: 1px;}#sk-container-id-2 div.sk-estimator {font-family: monospace;background-color: #f0f8ff;border: 1px dotted black;border-radius: 0.25em;box-sizing: border-box;margin-bottom: 0.5em;}#sk-container-id-2 div.sk-estimator:hover {background-color: #d4ebff;}#sk-container-id-2 div.sk-parallel-item::after {content: \"\";width: 100%;border-bottom: 1px solid gray;flex-grow: 1;}#sk-container-id-2 div.sk-label:hover label.sk-toggleable__label {background-color: #d4ebff;}#sk-container-id-2 div.sk-serial::before {content: \"\";position: absolute;border-left: 1px solid gray;box-sizing: border-box;top: 0;bottom: 0;left: 50%;z-index: 0;}#sk-container-id-2 div.sk-serial {display: flex;flex-direction: column;align-items: center;background-color: white;padding-right: 0.2em;padding-left: 0.2em;position: relative;}#sk-container-id-2 div.sk-item {position: relative;z-index: 1;}#sk-container-id-2 div.sk-parallel {display: flex;align-items: stretch;justify-content: center;background-color: white;position: relative;}#sk-container-id-2 div.sk-item::before, #sk-container-id-2 div.sk-parallel-item::before {content: \"\";position: absolute;border-left: 1px solid gray;box-sizing: border-box;top: 0;bottom: 0;left: 50%;z-index: -1;}#sk-container-id-2 div.sk-parallel-item {display: flex;flex-direction: column;z-index: 1;position: relative;background-color: white;}#sk-container-id-2 div.sk-parallel-item:first-child::after {align-self: flex-end;width: 50%;}#sk-container-id-2 div.sk-parallel-item:last-child::after {align-self: flex-start;width: 50%;}#sk-container-id-2 div.sk-parallel-item:only-child::after {width: 0;}#sk-container-id-2 div.sk-dashed-wrapped {border: 1px dashed gray;margin: 0 0.4em 0.5em 0.4em;box-sizing: border-box;padding-bottom: 0.4em;background-color: white;}#sk-container-id-2 div.sk-label label {font-family: monospace;font-weight: bold;display: inline-block;line-height: 1.2em;}#sk-container-id-2 div.sk-label-container {text-align: center;}#sk-container-id-2 div.sk-container {/* jupyter's `normalize.less` sets `[hidden] { display: none; }` but bootstrap.min.css set `[hidden] { display: none !important; }` so we also need the `!important` here to be able to override the default hidden behavior on the sphinx rendered scikit-learn.org. See: https://github.com/scikit-learn/scikit-learn/issues/21755 */display: inline-block !important;position: relative;}#sk-container-id-2 div.sk-text-repr-fallback {display: none;}</style><div id=\"sk-container-id-2\" class=\"sk-top-container\"><div class=\"sk-text-repr-fallback\"><pre>Pipeline(steps=[(&#x27;polynomialfeatures&#x27;, PolynomialFeatures()),\n",
       "                (&#x27;linearregression&#x27;, LinearRegression())])</pre><b>In a Jupyter environment, please rerun this cell to show the HTML representation or trust the notebook. <br />On GitHub, the HTML representation is unable to render, please try loading this page with nbviewer.org.</b></div><div class=\"sk-container\" hidden><div class=\"sk-item sk-dashed-wrapped\"><div class=\"sk-label-container\"><div class=\"sk-label sk-toggleable\"><input class=\"sk-toggleable__control sk-hidden--visually\" id=\"sk-estimator-id-2\" type=\"checkbox\" ><label for=\"sk-estimator-id-2\" class=\"sk-toggleable__label sk-toggleable__label-arrow\">Pipeline</label><div class=\"sk-toggleable__content\"><pre>Pipeline(steps=[(&#x27;polynomialfeatures&#x27;, PolynomialFeatures()),\n",
       "                (&#x27;linearregression&#x27;, LinearRegression())])</pre></div></div></div><div class=\"sk-serial\"><div class=\"sk-item\"><div class=\"sk-estimator sk-toggleable\"><input class=\"sk-toggleable__control sk-hidden--visually\" id=\"sk-estimator-id-3\" type=\"checkbox\" ><label for=\"sk-estimator-id-3\" class=\"sk-toggleable__label sk-toggleable__label-arrow\">PolynomialFeatures</label><div class=\"sk-toggleable__content\"><pre>PolynomialFeatures()</pre></div></div></div><div class=\"sk-item\"><div class=\"sk-estimator sk-toggleable\"><input class=\"sk-toggleable__control sk-hidden--visually\" id=\"sk-estimator-id-4\" type=\"checkbox\" ><label for=\"sk-estimator-id-4\" class=\"sk-toggleable__label sk-toggleable__label-arrow\">LinearRegression</label><div class=\"sk-toggleable__content\"><pre>LinearRegression()</pre></div></div></div></div></div></div></div>"
      ],
      "text/plain": [
       "Pipeline(steps=[('polynomialfeatures', PolynomialFeatures()),\n",
       "                ('linearregression', LinearRegression())])"
      ]
     },
     "execution_count": 19,
     "metadata": {},
     "output_type": "execute_result"
    }
   ],
   "source": [
    "from sklearn.preprocessing import PolynomialFeatures\n",
    "from sklearn.pipeline import make_pipeline\n",
    "\n",
    "#Criando o nosso modelo de Regressão Polinomial de grau 2\n",
    "modelo=make_pipeline(PolynomialFeatures(2),LinearRegression())\n",
    "\n",
    "#Ajuste do modelo\n",
    "modelo.fit(treino_X,treino_y)"
   ]
  },
  {
   "attachments": {},
   "cell_type": "markdown",
   "metadata": {},
   "source": [
    "Agora que criamos o nosso modelo e ajustamos ele, vamos predizer e validar: "
   ]
  },
  {
   "cell_type": "code",
   "execution_count": 20,
   "metadata": {},
   "outputs": [
    {
     "name": "stdout",
     "output_type": "stream",
     "text": [
      "Erro Médio Quadrático: 2.81 (16.20 %)\n",
      "R^2: 0.089\n"
     ]
    }
   ],
   "source": [
    "#Predizendo os dados\n",
    "pred=modelo.predict(teste_X)\n",
    "\n",
    "#Validação - Erro Médio Quadrático\n",
    "mse=np.sqrt(mean_squared_error(teste_y,pred))\n",
    "print(f'Erro Médio Quadrático: {mse:.2f} ({(mse/np.mean(pred)*100):.2f} %)')\n",
    "\n",
    "#Coeficiente de Determinação (Conhecido também como R²)\n",
    "score= modelo.score(treino_X, treino_y)\n",
    "print(f'R^2: {score:.3f}')"
   ]
  },
  {
   "attachments": {},
   "cell_type": "markdown",
   "metadata": {},
   "source": [
    "O MSE ainda é alto, mas é melhor do que o modelo de regressão linear. E o R² não está bem ajustado. Agora vamos plotar nosso modelo:"
   ]
  },
  {
   "cell_type": "code",
   "execution_count": 21,
   "metadata": {},
   "outputs": [
    {
     "data": {
      "text/plain": [
       "Text(0.5, 1.0, 'Modelo de Regressão Polinomial')"
      ]
     },
     "execution_count": 21,
     "metadata": {},
     "output_type": "execute_result"
    },
    {
     "data": {
      "image/png": "[encoded data removed]",
      "text/plain": [
       "<Figure size 640x480 with 1 Axes>"
      ]
     },
     "metadata": {},
     "output_type": "display_data"
    }
   ],
   "source": [
    "#Plotando o resultado do nosso modelo\n",
    "plt.scatter(teste_X,teste_y)\n",
    "plt.plot(sorted(teste_X), modelo.predict(sorted(teste_X)), color='red')\n",
    "plt.xlabel('Dados de Teste - Dias do Ano²')\n",
    "plt.ylabel('Dados de Teste - Preço das Tortas de Abóbora')\n",
    "plt.title('Modelo de Regressão Polinomial')"
   ]
  },
  {
   "attachments": {},
   "cell_type": "markdown",
   "metadata": {},
   "source": [
    "Mesmo o modelo de regressão polinomial sendo melhor que o de regressão linear para este caso, ainda não foi o melhor modelo que se encaixe neste problema.\n",
    "\n",
    "Outro ponto é que estamos utilizando apenas uma característica, que são os dias do ano. Se utilizarmos um conjunto de características, a predição será melhor."
   ]
  },
  {
   "attachments": {},
   "cell_type": "markdown",
   "metadata": {},
   "source": [
    "# Características Categóricas\n",
    "\n",
    "Relembrando os tipos de abóboras, temos no total 4 tipos: PIE TYPE, MINIATURE, FAIRYTALE e MIXED HEIRLOOM VARIETIES.\n",
    "Vamos utilizar estas características agora. Porém ao invés de usar strings, podemos codificá-las para melhorar a predição de regressão linear, pois este modelo espera que as entradas sejam numéricas. Uma forma de fazer isto é através do **One-Hot Encoding**.\n",
    "\n",
    "O One-Hot Encoding é útil quando temos variáveis categóricas - dados qualitativos, podendo ser nominais (ex.: tipo de abóbora, sexo, cor dos olhos)  ou ordinais (ex.: escolaridade). Para cada tipo de abóbora será atribuído 1 quando verdadeiro e 0 quando falso, criando uma coluna binária para cada tipo de abóbora. Deste modo, fugimos da ponderação arbitrária através das variáveis dummies/binárias.\n"
   ]
  },
  {
   "cell_type": "code",
   "execution_count": 22,
   "metadata": {},
   "outputs": [
    {
     "data": {
      "text/html": [
       "<div>\n",
       "<style scoped>\n",
       "    .dataframe tbody tr th:only-of-type {\n",
       "        vertical-align: middle;\n",
       "    }\n",
       "\n",
       "    .dataframe tbody tr th {\n",
       "        vertical-align: top;\n",
       "    }\n",
       "\n",
       "    .dataframe thead th {\n",
       "        text-align: right;\n",
       "    }\n",
       "</style>\n",
       "<table border=\"1\" class=\"dataframe\">\n",
       "  <thead>\n",
       "    <tr style=\"text-align: right;\">\n",
       "      <th></th>\n",
       "      <th>FAIRYTALE</th>\n",
       "      <th>MINIATURE</th>\n",
       "      <th>MIXED HEIRLOOM VARIETIES</th>\n",
       "      <th>PIE TYPE</th>\n",
       "    </tr>\n",
       "  </thead>\n",
       "  <tbody>\n",
       "    <tr>\n",
       "      <th>70</th>\n",
       "      <td>0</td>\n",
       "      <td>0</td>\n",
       "      <td>0</td>\n",
       "      <td>1</td>\n",
       "    </tr>\n",
       "    <tr>\n",
       "      <th>71</th>\n",
       "      <td>0</td>\n",
       "      <td>0</td>\n",
       "      <td>0</td>\n",
       "      <td>1</td>\n",
       "    </tr>\n",
       "    <tr>\n",
       "      <th>72</th>\n",
       "      <td>0</td>\n",
       "      <td>0</td>\n",
       "      <td>0</td>\n",
       "      <td>1</td>\n",
       "    </tr>\n",
       "    <tr>\n",
       "      <th>73</th>\n",
       "      <td>0</td>\n",
       "      <td>0</td>\n",
       "      <td>0</td>\n",
       "      <td>1</td>\n",
       "    </tr>\n",
       "    <tr>\n",
       "      <th>74</th>\n",
       "      <td>0</td>\n",
       "      <td>0</td>\n",
       "      <td>0</td>\n",
       "      <td>1</td>\n",
       "    </tr>\n",
       "    <tr>\n",
       "      <th>...</th>\n",
       "      <td>...</td>\n",
       "      <td>...</td>\n",
       "      <td>...</td>\n",
       "      <td>...</td>\n",
       "    </tr>\n",
       "    <tr>\n",
       "      <th>1738</th>\n",
       "      <td>0</td>\n",
       "      <td>1</td>\n",
       "      <td>0</td>\n",
       "      <td>0</td>\n",
       "    </tr>\n",
       "    <tr>\n",
       "      <th>1739</th>\n",
       "      <td>0</td>\n",
       "      <td>1</td>\n",
       "      <td>0</td>\n",
       "      <td>0</td>\n",
       "    </tr>\n",
       "    <tr>\n",
       "      <th>1740</th>\n",
       "      <td>0</td>\n",
       "      <td>1</td>\n",
       "      <td>0</td>\n",
       "      <td>0</td>\n",
       "    </tr>\n",
       "    <tr>\n",
       "      <th>1741</th>\n",
       "      <td>0</td>\n",
       "      <td>1</td>\n",
       "      <td>0</td>\n",
       "      <td>0</td>\n",
       "    </tr>\n",
       "    <tr>\n",
       "      <th>1742</th>\n",
       "      <td>0</td>\n",
       "      <td>1</td>\n",
       "      <td>0</td>\n",
       "      <td>0</td>\n",
       "    </tr>\n",
       "  </tbody>\n",
       "</table>\n",
       "<p>415 rows × 4 columns</p>\n",
       "</div>"
      ],
      "text/plain": [
       "      FAIRYTALE  MINIATURE  MIXED HEIRLOOM VARIETIES  PIE TYPE\n",
       "70            0          0                         0         1\n",
       "71            0          0                         0         1\n",
       "72            0          0                         0         1\n",
       "73            0          0                         0         1\n",
       "74            0          0                         0         1\n",
       "...         ...        ...                       ...       ...\n",
       "1738          0          1                         0         0\n",
       "1739          0          1                         0         0\n",
       "1740          0          1                         0         0\n",
       "1741          0          1                         0         0\n",
       "1742          0          1                         0         0\n",
       "\n",
       "[415 rows x 4 columns]"
      ]
     },
     "execution_count": 22,
     "metadata": {},
     "output_type": "execute_result"
    }
   ],
   "source": [
    "#Utilizando o One-Hot Encoding para os tipos de abóboras\n",
    "pd.get_dummies(aboboras_novo['Variedade'], dtype=int)"
   ]
  },
  {
   "attachments": {},
   "cell_type": "markdown",
   "metadata": {},
   "source": [
    " Agora vamos treinar o nosso modelo de Regressão linear utilizando as características acima."
   ]
  },
  {
   "cell_type": "code",
   "execution_count": 25,
   "metadata": {},
   "outputs": [
    {
     "name": "stdout",
     "output_type": "stream",
     "text": [
      "Erro Médio Quadrático: 6.59 (36.15 %)\n",
      "R^2: 0.02\n"
     ]
    }
   ],
   "source": [
    "#Obtendo X e y \n",
    "X=pd.get_dummies(aboboras_novo['Variedade'], dtype=int)\n",
    "y=aboboras_novo['Preco']\n",
    "\n",
    "#Separação em dados de treino e de validação/teste\n",
    "treino_X, teste_X, treino_y, teste_y= train_test_split(X,y, test_size=0.2, random_state=0) \n",
    "\n",
    "#Definição do modelo\n",
    "regressao_linear= LinearRegression()\n",
    "\n",
    "#Ajuste do Modelo\n",
    "regressao_linear.fit(treino_X, treino_y)\n",
    "\n",
    "#Predição dos preços \n",
    "pred_regressao_linear=regressao_linear.predict(teste_X)\n",
    "\n",
    "#Validação do Modelo de Regressão Linear - Erro Médio Quadrático e Coeficiente de Determinação\n",
    "#Erro Médio Quadrático\n",
    "mse=np.sqrt(mean_squared_error(teste_y,pred_regressao_linear))\n",
    "print(f'Erro Médio Quadrático: {mse:.2f} ({(mse/np.mean(pred_regressao_linear)*100):.2f} %)')\n",
    "\n",
    "#Coeficiente de Determinação (Conhecido também como R²)\n",
    "score= regressao_linear.score(treino_X, treino_y)\n",
    "print(f'R^2: {score:.2f}')"
   ]
  },
  {
   "attachments": {},
   "cell_type": "markdown",
   "metadata": {},
   "source": [
    "Utilizando apenas uma característica de entrada, o nosso modelo continua com baixa precisão. Então vamos adicionar mais características relevantes, como Mês, Cidade e Pacote:"
   ]
  },
  {
   "cell_type": "code",
   "execution_count": 28,
   "metadata": {},
   "outputs": [
    {
     "name": "stdout",
     "output_type": "stream",
     "text": [
      "Erro Médio Quadrático: 2.19 (11.29 %)\n",
      "R^2: 0.89\n"
     ]
    }
   ],
   "source": [
    "#Obtendo X e y \n",
    "X = pd.get_dummies(aboboras_novo['Variedade'], dtype=int) \\\n",
    "        .join(aboboras_novo['Mes']) \\\n",
    "        .join(pd.get_dummies(aboboras_novo['Cidade'], dtype=int)) \\\n",
    "        .join(pd.get_dummies(aboboras_novo['Pacote'], dtype=int))\n",
    "y = aboboras_novo['Preco']\n",
    "\n",
    "#Separação em dados de treino e de validação/teste\n",
    "treino_X, teste_X, treino_y, teste_y= train_test_split(X,y, test_size=0.2, random_state=0) \n",
    "\n",
    "#Definição do modelo\n",
    "regressao_linear= LinearRegression()\n",
    "\n",
    "#Ajuste do Modelo\n",
    "regressao_linear.fit(treino_X, treino_y)\n",
    "\n",
    "#Predição dos preços \n",
    "pred_regressao_linear=regressao_linear.predict(teste_X)\n",
    "\n",
    "#Validação do Modelo de Regressão Linear - Erro Médio Quadrático e Coeficiente de Determinação\n",
    "#Erro Médio Quadrático\n",
    "mse=np.sqrt(mean_squared_error(teste_y,pred_regressao_linear))\n",
    "print(f'Erro Médio Quadrático: {mse:.2f} ({(mse/np.mean(pred_regressao_linear)*100):.2f} %)')\n",
    "\n",
    "#Coeficiente de Determinação (Conhecido também como R²)\n",
    "score= regressao_linear.score(treino_X, treino_y)\n",
    "print(f'R^2: {score:.2f}')"
   ]
  },
  {
   "attachments": {},
   "cell_type": "markdown",
   "metadata": {},
   "source": [
    "O MSE caiu para 11,29 % e o R² subiu para 0,89. Temos como resultado uma predição melhor que as tentativas anteriores.\n",
    "\n",
    "Agora vamos utilizar o modelo de regressão polinomial para verificarmos se conseguimos uma validação melhor."
   ]
  },
  {
   "cell_type": "code",
   "execution_count": 29,
   "metadata": {},
   "outputs": [
    {
     "name": "stdout",
     "output_type": "stream",
     "text": [
      "Erro Médio Quadrático: 1.87 (9.58 %)\n",
      "R^2: 0.934\n"
     ]
    }
   ],
   "source": [
    "#Obtendo X e y \n",
    "X = pd.get_dummies(aboboras_novo['Variedade'], dtype=int) \\\n",
    "        .join(aboboras_novo['Mes']) \\\n",
    "        .join(pd.get_dummies(aboboras_novo['Cidade'], dtype=int)) \\\n",
    "        .join(pd.get_dummies(aboboras_novo['Pacote'], dtype=int))\n",
    "y = aboboras_novo['Preco']\n",
    "\n",
    "#Separação em dados de treino e de validação/teste\n",
    "treino_X, teste_X, treino_y, teste_y= train_test_split(X,y, test_size=0.2, random_state=0) \n",
    "\n",
    "#Criando o nosso modelo de Regressão Polinomial de grau 2\n",
    "modelo=make_pipeline(PolynomialFeatures(2),LinearRegression())\n",
    "\n",
    "#Ajuste do modelo\n",
    "modelo.fit(treino_X,treino_y)\n",
    "\n",
    "#Predizendo os dados\n",
    "pred=modelo.predict(teste_X)\n",
    "\n",
    "#Validação - Erro Médio Quadrático\n",
    "mse=np.sqrt(mean_squared_error(teste_y,pred))\n",
    "print(f'Erro Médio Quadrático: {mse:.2f} ({(mse/np.mean(pred)*100):.2f} %)')\n",
    "\n",
    "#Coeficiente de Determinação (Conhecido também como R²)\n",
    "score= modelo.score(treino_X, treino_y)\n",
    "print(f'R^2: {score:.3f}')"
   ]
  },
  {
   "attachments": {},
   "cell_type": "markdown",
   "metadata": {},
   "source": [
    "Com a regressão polinomial MSE e R² foram melhores. Agora irei adicionar a validação de todos os modelos feitos neste notebook para fim de comparação:"
   ]
  },
  {
   "attachments": {},
   "cell_type": "markdown",
   "metadata": {},
   "source": [
    "| *Modelo*   | *Erro Médio Quadrático (MSE)*   | *Coeficiente de Determinação(R²)* | \n",
    "|-------|-------|-----------|\n",
    "| Regressão Linear | 2.87 (16.50 %) | 0.040     |\n",
    "| Regressão Polinomial  | 2.81 (16.20 %)  | 0.089     | \n",
    "| Regressão Linear (Somente com Variedade)  | 6.59 (36.15 %) | 0.020     | \n",
    "| Regressão Linear (Todas as Características)  | 2.19 (11.29 %)  | 0.890      | \n",
    "| Regressão Polinomial (Todas as Características) |  1.87 (9.58 %)  | 0.934      | \n"
   ]
  }
 ],
 "metadata": {
  "kernelspec": {
   "display_name": "Python 3",
   "language": "python",
   "name": "python3"
  },
  "language_info": {
   "codemirror_mode": {
    "name": "ipython",
    "version": 3
   },
   "file_extension": ".py",
   "mimetype": "text/x-python",
   "name": "python",
   "nbconvert_exporter": "python",
   "pygments_lexer": "ipython3",
   "version": "3.11.1"
  },
  "orig_nbformat": 2
 },
 "nbformat": 4,
 "nbformat_minor": 2
}
